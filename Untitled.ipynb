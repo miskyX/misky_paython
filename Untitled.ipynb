{
 "cells": [
  {
   "cell_type": "code",
   "execution_count": 1,
   "metadata": {},
   "outputs": [
    {
     "name": "stdout",
     "output_type": "stream",
     "text": [
      "请输入第一个数字1.5\n",
      "请输入第二个数字2.5\n",
      "两数相加= 4.0\n",
      "数字1.5和数字2.5，相加结果为:4.0\n"
     ]
    }
   ],
   "source": [
    "# 练习题1\n",
    "# 输入第一个数字：1.5\n",
    "# 输入第二个数字：2.5\n",
    "# 数字 1.5 和 2.5 相加结果为： 4.0\n",
    "\n",
    "number1 = input(\"请输入第一个数字\")\n",
    "number2 = input(\"请输入第二个数字\")\n",
    "\n",
    "number1 = float(number1) #整数为int(),float()为数字\n",
    "number2 = float(number2)\n",
    "\n",
    "sum = number1 + number2\n",
    "print(\"两数相加=\",sum)\n",
    "print(\"数字{0}和数字{1}，相加结果为:{2}\".format(number1,number2,sum))"
   ]
  },
  {
   "cell_type": "code",
   "execution_count": null,
   "metadata": {
    "collapsed": true
   },
   "outputs": [],
   "source": []
  },
  {
   "cell_type": "code",
   "execution_count": 2,
   "metadata": {},
   "outputs": [
    {
     "name": "stdout",
     "output_type": "stream",
     "text": [
      "请输入0-100中的一个数字\n",
      "然后查看是否与电脑一样：15\n",
      "你第1输入的数字小于电脑随机数字\n",
      "请再次输入数字:25\n",
      "你第2输入的数字大于电脑随机数字\n",
      "请再次输入数字:20\n",
      "你第3输入的数字小于电脑随机数字\n",
      "请再次输入数字:17\n",
      "你第4输入的数字小于电脑随机数字\n",
      "请再次输入数字:18\n",
      "你第5输入的数字小于电脑随机数字\n",
      "请再次输入数字:19\n",
      "你第6输入的数字小于电脑随机数字\n",
      "请再次输入数字:20\n",
      "你第7输入的数字小于电脑随机数字\n",
      "请再次输入数字:22\n",
      "你第8输入的数字小于电脑随机数字\n",
      "请再次输入数字:24\n",
      "你第9输入的数字大于电脑随机数字\n",
      "请再次输入数字:23\n",
      "恭喜你，你第10次输入的数字与电脑的随机数字23一样\n"
     ]
    }
   ],
   "source": [
    "#随机数字小游戏\n",
    "# 让电脑随机产生一个数字，然后让用户输入一个数字，看是否相等，如果不相等一直允许输入，直至相等\n",
    "import random\n",
    "i = 1\n",
    "a = random.randint(0,100)\n",
    "b = int( input('请输入0-100中的一个数字\\n然后查看是否与电脑一样：'))\n",
    "while a != b:\n",
    "    if a > b:\n",
    "        print('你第%d输入的数字小于电脑随机数字'%i)\n",
    "        b = int(input('请再次输入数字:'))\n",
    "    else:\n",
    "        print('你第%d输入的数字大于电脑随机数字'%i)\n",
    "        b = int(input('请再次输入数字:'))\n",
    "    i+=1\n",
    "else:\n",
    "    print('恭喜你，你第%d次输入的数字与电脑的随机数字%d一样'%(i,b))\n",
    "    "
   ]
  },
  {
   "cell_type": "code",
   "execution_count": 16,
   "metadata": {},
   "outputs": [
    {
     "name": "stdout",
     "output_type": "stream",
     "text": [
      "下面，请输入一个1-10之间的数字，我们将与中奖号码比对88\n",
      "很抱歉，您未中奖，大\n",
      "再给你一次机会4\n",
      "很抱歉，您未中奖，小\n",
      "再给你一次机会1\n",
      "很抱歉，您未中奖，小\n",
      "再给你一次机会5\n",
      "很抱歉，您未中奖，小\n",
      "再给你一次机会8\n",
      "很抱歉，您未中奖，大\n",
      "再给你一次机会4\n",
      "很抱歉，您未中奖，小\n",
      "再给你一次机会7\n",
      "经过你的不懈努力，您在第7次中奖，恭喜您，500万妥妥的\n"
     ]
    }
   ],
   "source": [
    "\n",
    "#自己举个栗子\n",
    "import random\n",
    "i = 1\n",
    "cpu = random.randint(1,10)\n",
    "person = int( input(\"下面，请输入一个1-10之间的数字，我们将与中奖号码比对\"))\n",
    "while person != cpu:\n",
    "    if person > cpu:\n",
    "        print(\"很抱歉，您未中奖，大\")\n",
    "        person = int(input(\"再给你一次机会\"))\n",
    "    else:\n",
    "        print(\"很抱歉，您未中奖，小\")\n",
    "        person = int(input(\"再给你一次机会\"))\n",
    "    i = i + 1\n",
    "else:\n",
    "    print(\"经过你的不懈努力，您在第%d次中奖，恭喜您，500万妥妥的\"%i)\n",
    "\n"
   ]
  },
  {
   "cell_type": "code",
   "execution_count": 38,
   "metadata": {},
   "outputs": [
    {
     "name": "stdout",
     "output_type": "stream",
     "text": [
      "\n",
      "九九乘法表\n",
      "\n",
      "1×1=1\t\n",
      "2×1=2\t2×2=4\t\n",
      "3×1=3\t3×2=6\t3×3=9\t\n",
      "4×1=4\t4×2=8\t4×3=12\t4×4=16\t\n",
      "5×1=5\t5×2=10\t5×3=15\t5×4=20\t5×5=25\t\n",
      "6×1=6\t6×2=12\t6×3=18\t6×4=24\t6×5=30\t6×6=36\t\n",
      "7×1=7\t7×2=14\t7×3=21\t7×4=28\t7×5=35\t7×6=42\t7×7=49\t\n",
      "8×1=8\t8×2=16\t8×3=24\t8×4=32\t8×5=40\t8×6=48\t8×7=56\t8×8=64\t\n",
      "9×1=9\t9×2=18\t9×3=27\t9×4=36\t9×5=45\t9×6=54\t9×7=63\t9×8=72\t9×9=81\t\n"
     ]
    }
   ],
   "source": [
    "# 练习一个九九乘法表\n",
    "print(\"\\n九九乘法表\\n\")\n",
    "\n",
    "for i in range(1,10):\n",
    "    for j in range (1,i+1):\n",
    "        print(\"{0}×{1}={2}\\t\".format(i,j,i*j),end=\"\")#注意\\t 和 end=\"\"\n",
    "    print()"
   ]
  },
  {
   "cell_type": "code",
   "execution_count": null,
   "metadata": {
    "collapsed": true
   },
   "outputs": [],
   "source": []
  },
  {
   "cell_type": "code",
   "execution_count": null,
   "metadata": {
    "collapsed": true
   },
   "outputs": [],
   "source": []
  },
  {
   "cell_type": "code",
   "execution_count": null,
   "metadata": {
    "collapsed": true
   },
   "outputs": [],
   "source": []
  },
  {
   "cell_type": "code",
   "execution_count": null,
   "metadata": {
    "collapsed": true
   },
   "outputs": [],
   "source": []
  },
  {
   "cell_type": "code",
   "execution_count": null,
   "metadata": {
    "collapsed": true
   },
   "outputs": [],
   "source": []
  },
  {
   "cell_type": "code",
   "execution_count": null,
   "metadata": {
    "collapsed": true
   },
   "outputs": [],
   "source": []
  }
 ],
 "metadata": {
  "kernelspec": {
   "display_name": "Python 3",
   "language": "python",
   "name": "python3"
  },
  "language_info": {
   "codemirror_mode": {
    "name": "ipython",
    "version": 3
   },
   "file_extension": ".py",
   "mimetype": "text/x-python",
   "name": "python",
   "nbconvert_exporter": "python",
   "pygments_lexer": "ipython3",
   "version": "3.6.3"
  }
 },
 "nbformat": 4,
 "nbformat_minor": 2
}
